{
  "nbformat": 4,
  "nbformat_minor": 0,
  "metadata": {
    "colab": {
      "name": "Untitled21.ipynb",
      "provenance": [],
      "collapsed_sections": []
    },
    "kernelspec": {
      "name": "python3",
      "display_name": "Python 3"
    },
    "language_info": {
      "name": "python"
    }
  },
  "cells": [
    {
      "cell_type": "code",
      "execution_count": null,
      "metadata": {
        "id": "BI75F5jcJYdn"
      },
      "outputs": [],
      "source": [
        "!pip install -q condacolab\n",
        "import condacolab\n",
        "condacolab.install()"
      ]
    },
    {
      "cell_type": "code",
      "source": [
        "!pip install -qqq hdbscan biopython screed tqdm py3dmol markov-clustering pdb-tools altair vega_datasets networkx numpy pandas matplotlib pytest libpysal spreg esda geopandas\n",
        "!pip install -qqq -i https://test.pypi.org/simple/ faltwerk==0.2b0\n",
        "\n",
        "!conda config --add channels defaults\n",
        "!conda config --add channels bioconda\n",
        "!conda config --add channels conda-forge\n",
        "\n",
        "!mamba install -q -y -c bioconda foldseek=3.915ef7d hmmer"
      ],
      "metadata": {
        "id": "QAnHMZ8CJY-k"
      },
      "execution_count": null,
      "outputs": []
    },
    {
      "cell_type": "code",
      "source": [
        "!pip install -i https://test.pypi.org/simple/ faltwerk==0.2rc0\n",
        "!git clone https://github.com/phiweger/faltwerk\n",
        "%cd faltwerk"
      ],
      "metadata": {
        "id": "e4thzHIdLeZ0"
      },
      "execution_count": null,
      "outputs": []
    },
    {
      "cell_type": "code",
      "source": [
        "from hdbscan import HDBSCAN\n",
        "\n",
        "from faltwerk.models import Fold\n",
        "from faltwerk.vis import Layout\n",
        "\n",
        "fp = 'data/alphafold2/transferrin/test_08df6_unrelaxed_rank_1_model_3.pdb'\n",
        "model = Fold(fp)\n",
        "Layout(model).geom_ribbon().render().show()"
      ],
      "metadata": {
        "id": "QhN7ByO_JlFK"
      },
      "execution_count": null,
      "outputs": []
    },
    {
      "cell_type": "code",
      "source": [
        "import json\n",
        "from pathlib import Path\n",
        "import warnings\n",
        "warnings.filterwarnings('ignore')\n",
        "warnings.simplefilter('ignore')\n",
        "\n",
        "import altair as alt\n",
        "import numpy as np\n",
        "import py3Dmol\n",
        "import pandas as pd\n",
        "\n",
        "from libpysal.weights import KNN, DistanceBand\n",
        "from spreg import OLS, Probit\n",
        "# https://github.com/pysal/spreg/blob/d464bbbc3c8601f1ca1989f4756967dca3a83179/spreg/probit.py#L704\n",
        "\n",
        "from faltwerk.biochem import solvent_access\n",
        "from faltwerk.geometry import is_close, get_complex_interface, distance_to_positions, get_alpha_carbon_atoms\n",
        "from faltwerk.io import load_conserved, load_bfactor_column, load_conserved\n",
        "from faltwerk.models import Fold, Complex, Binding, AlphaFold\n",
        "from faltwerk.stats import find_hotspots, cluster\n",
        "from faltwerk.vis import Layout, plot_alphafold\n",
        "from faltwerk.utils import flatten\n"
      ],
      "metadata": {
        "id": "UEusGhNNKiS4"
      },
      "execution_count": null,
      "outputs": []
    },
    {
      "cell_type": "code",
      "source": [
        "fp = 'data/alphafold2/transferrin/'\n",
        "af = AlphaFold(fp)"
      ],
      "metadata": {
        "id": "B28sPOh9KtoO"
      },
      "execution_count": null,
      "outputs": []
    },
    {
      "cell_type": "code",
      "source": [
        "plot_alphafold(af)\n"
      ],
      "metadata": {
        "id": "O8wGdWymNSxG"
      },
      "execution_count": null,
      "outputs": []
    },
    {
      "cell_type": "code",
      "source": [
        "model = af.best\n",
        "\n",
        "# What annotation tracks are present?\n",
        "model.annotation.keys()\n",
        "# dict_keys(['position', 'plddt'])\n",
        "\n",
        "Layout(model, panel_size=(400, 300)).geom_ribbon('plddt', palette='rainbow_r').render().show()\n",
        "# Blue is good\n",
        "# Pick any color or color palette from matplotlib:\n",
        "# https://matplotlib.org/stable/tutorials/colors/colormaps.html"
      ],
      "metadata": {
        "id": "8J0M0oudNvS0"
      },
      "execution_count": null,
      "outputs": []
    },
    {
      "cell_type": "code",
      "source": [
        ""
      ],
      "metadata": {
        "id": "ziel8vMhOKZ6"
      },
      "execution_count": null,
      "outputs": []
    }
  ]
}