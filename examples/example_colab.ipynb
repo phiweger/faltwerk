{
 "cells": [
  {
   "cell_type": "markdown",
   "id": "e6817987",
   "metadata": {},
   "source": [
    "## Use case\n",
    "\n",
    "The aim of `faltwerk` is to help during spatial exploratory data analysis of protein structures. There are many use cases, but here we will focus on positively selected residues in great apes in the iron transporter \"transferrin\", identified by Barber _et al._ (2014, Science, [link](https://www.science.org/doi/10.1126/science.1259329)). In this beautiful study, they can trace this back to escape from iron piracy:\n",
    "\n",
    "> We show that the iron transport protein transferrin is engaged in ancient and ongoing evolutionary conflicts with TbpA, a transferrin surface receptor from bacteria.\n",
    "\n",
    "Below we assume the state of knowledge Barber _et al._ had when they embarked on the study, which means we just found that several sites in transferrin are positively selected. We will use `faltwerk` to see if there is any spatial component to this finding, and generate hypotheses, that we can then follow up on (in the lab, for example, as did the authors). In fact, we assume even less. While the structures of transferrin and the transferrin-TbpA complex had been resolved by the time of the study, we will not use them, but predicted them _de novo_ using _AlphaFold2_ (AF2).\n",
    "\n",
    "Disclaimer: Remember that ALL analyses below are based on the protein sequence ONLY, which continuous to amaze me. However, therefore, one has to be careful to not place too much confidence on any individual technique, and seek othogonal evidence for any finding that might come up."
   ]
  },
  {
   "cell_type": "markdown",
   "id": "7f29469e",
   "metadata": {},
   "source": [
    "## Setup"
   ]
  },
  {
   "cell_type": "code",
   "execution_count": null,
   "id": "45b03570",
   "metadata": {},
   "outputs": [],
   "source": [
    "# TL;DR: Run this, then wait for the notebook to crash and reload.\n",
    "# Yes, this is intentional: https://github.com/conda-incubator/condacolab\n",
    "\n",
    "# Wha? Colab comes with a notebook kernel of Python, but installing conda only changes the systems level Python.\n",
    "# This causes many install problems. To install conda and keep the two \"Pythons\" in sync, execute this cell,\n",
    "# let the notebook crash and reload, and then everyhing is fine.\n",
    "!pip install -q condacolab\n",
    "import condacolab\n",
    "condacolab.install()"
   ]
  },
  {
   "cell_type": "code",
   "execution_count": null,
   "id": "03662948",
   "metadata": {},
   "outputs": [],
   "source": [
    "# Dependencies\n",
    "!pip install -q hdbscan biopython screed tqdm py3dmol markov-clustering pdb-tools altair vega_datasets networkx numpy pandas matplotlib pytest libpysal spreg esda geopandas 2> /dev/null\n",
    "\n",
    "# More dependencies\n",
    "!conda config --add channels defaults\n",
    "!conda config --add channels bioconda\n",
    "!conda config --add channels conda-forge\n",
    "!mamba install -q -y -c bioconda foldseek=3.915ef7d hmmer 2> /dev/null"
   ]
  },
  {
   "cell_type": "code",
   "execution_count": null,
   "id": "34644775",
   "metadata": {},
   "outputs": [],
   "source": [
    "# Get faltwerk cd into repo.\n",
    "!pip install -i https://test.pypi.org/simple/ faltwerk==0.2rc0\n",
    "!git clone https://github.com/phiweger/faltwerk\n",
    "%cd faltwerk"
   ]
  },
  {
   "cell_type": "code",
   "execution_count": null,
   "id": "9ec5cc98",
   "metadata": {},
   "outputs": [],
   "source": [
    "# Get Pfam database (Version v31 -- this matters!)\n",
    "!wget http://ftp.ebi.ac.uk/pub/databases/Pfam/releases/Pfam31.0/Pfam-A.hmm.dat.gz\n",
    "!wget http://ftp.ebi.ac.uk/pub/databases/Pfam/releases/Pfam31.0/Pfam-A.hmm.gz\n",
    "!gunzip -q Pfam*\n",
    "!hmmpress Pfam-A.hmm"
   ]
  },
  {
   "cell_type": "markdown",
   "id": "2a808d20",
   "metadata": {},
   "source": [
    "## Run\n",
    "\n",
    "Let's import what we'll need:"
   ]
  },
  {
   "cell_type": "code",
   "execution_count": null,
   "id": "a9d4e8ad",
   "metadata": {},
   "outputs": [],
   "source": [
    "import json\n",
    "from pathlib import Path\n",
    "import warnings\n",
    "warnings.filterwarnings('ignore')\n",
    "warnings.simplefilter('ignore')\n",
    "\n",
    "import altair as alt\n",
    "import numpy as np\n",
    "import py3Dmol\n",
    "import pandas as pd\n",
    "\n",
    "from libpysal.weights import KNN, DistanceBand\n",
    "from spreg import OLS, Probit\n",
    "# https://github.com/pysal/spreg/blob/d464bbbc3c8601f1ca1989f4756967dca3a83179/spreg/probit.py#L704\n",
    "\n",
    "from faltwerk.biochem import solvent_access\n",
    "from faltwerk.geometry import is_close, get_complex_interface, distance_to_positions, get_alpha_carbon_atoms\n",
    "from faltwerk.io import load_conserved, load_bfactor_column, load_conserved\n",
    "from faltwerk.models import Fold, Complex, Binding, AlphaFold\n",
    "from faltwerk.stats import find_hotspots, cluster\n",
    "from faltwerk.vis import Layout, plot_alphafold\n",
    "from faltwerk.utils import flatten\n",
    "\n",
    "\n",
    "pfam = 'Pfam-A.hmm'\n"
   ]
  },
  {
   "cell_type": "markdown",
   "id": "309763f2",
   "metadata": {},
   "source": [
    "For the prediction of the transferrin protein structure we used AF2 as implemented in \"ColabFold\":\n",
    "\n",
    "- [code](https://github.com/sokrypton/ColabFold)\n",
    "- [manuscript](https://www.nature.com/articles/s41592-022-01488-1)\n",
    "\n",
    "By default, AF2 predicts 5 models and we can choose the best accoding to some metric, where \"pLDDT\" is most commonly used. Values above about 70% indicate that the model is quite confident about the prediction. A superposition of the models can give an idea about the variance in the prediction. Behind the scenes, `faltwerk` will take the prediction results, rename chains, and align the structures (the latter using `foldseek`)."
   ]
  },
  {
   "cell_type": "code",
   "execution_count": null,
   "id": "0483faf7",
   "metadata": {
    "scrolled": false
   },
   "outputs": [],
   "source": [
    "fp = 'data/alphafold2/transferrin/'\n",
    "af = AlphaFold(fp)\n"
   ]
  },
  {
   "cell_type": "code",
   "execution_count": null,
   "id": "42778dfc",
   "metadata": {
    "scrolled": true
   },
   "outputs": [],
   "source": [
    "plot_alphafold(af)\n"
   ]
  },
  {
   "cell_type": "markdown",
   "id": "7706f95e",
   "metadata": {},
   "source": [
    "We continue with the best model. To be more flexible in the visualisation of proteins we'll introduce the `Layer` object."
   ]
  },
  {
   "cell_type": "code",
   "execution_count": null,
   "id": "f978cc12",
   "metadata": {
    "scrolled": true
   },
   "outputs": [],
   "source": [
    "model = af.best\n",
    "\n",
    "# What annotation tracks are present?\n",
    "model.annotation.keys()\n",
    "# dict_keys(['position', 'plddt'])\n",
    "\n",
    "Layout(model, panel_size=(400, 300)).geom_ribbon('plddt', palette='rainbow_r').render().show()\n",
    "# Blue is good\n",
    "# Pick any color or color palette from matplotlib:\n",
    "# https://matplotlib.org/stable/tutorials/colors/colormaps.html\n"
   ]
  },
  {
   "cell_type": "markdown",
   "id": "847b078e",
   "metadata": {},
   "source": [
    "The model seems uncertain about how to fold the N-termus, but other than that, we seem to have a decent structure prediction.\n",
    "\n",
    "We now begin our scientific inquiry. Using several methods, Barber _et al._ arrived at several positions in the protein that seem to be under positive selection. What caught their attention was the spatial organisation of these positions. They seemed to be constrained to two regions on the linear protein sequence. Spatial clustering suggests that some part of the protein is more \"relevant\" to a biological process than others. The properties of this protein part can suggest what biological process could be responsible. For example, positive selection across binding sites could be caused by an evolutionary arm's race between two organisms, as is the case here (for detailed information please refer to the above mentioned manuscript)."
   ]
  },
  {
   "cell_type": "code",
   "execution_count": null,
   "id": "3872575d",
   "metadata": {},
   "outputs": [],
   "source": [
    "original = [153, 253, 382, 434, 435, 436, 439, 558, 574, 575, 576, 591, 592, 593, 614, 617, 619, 625]\n",
    "# -1 bc/ positions from are 1-based (publication) but Python has us work with 0-based indexing\n",
    "barber2014 = [i-1 for i in original]\n",
    "# Turn positions into a vector with one for each position under selection and 0 otherwise.\n",
    "selection = [1 if i in barber2014 else 0 for i in range(len(model))]\n"
   ]
  },
  {
   "cell_type": "markdown",
   "id": "dc4c7918",
   "metadata": {},
   "source": [
    "We can approach the question \"is there spatial signal in sites under positive selection\" in two ways.\n",
    "\n",
    "1. spatial autocorrelation (features matter)\n",
    "2. point pattern analysis (coordinates matter)\n",
    "\n",
    "In (1) we try to find regions where a \"patch\" around a residue in our structure has some property, but by pure chance we would not expect such an aggregation in space to occur (random distibution). We supply a p-value and a maximum false discovery rate (FDR), to adjust for multiple testing. Below, we define the neighborhood of a residue as a sphere with a radius of eight Angstrom. We will use the [Getis-Ord statistic](https://onlinelibrary.wiley.com/doi/10.1111/j.1538-4632.1992.tb00261.x) to find \"hotspots\", and in a one-sided test we are only interested in hotspots with more selection than is expected (you could be interested in negative/ purifying selection, in which case you run the two-sided tests).\n",
    "\n",
    "For (2) we use point density to cluster points that are close in space. Here, we take all residues identified as part of a hotspot of positive selection and cluster them. Basically, this segments hotspots, which can be useful in automated analyses. Imagine that two biological processes act on your favourite protein, one on a binding site and the other on the active center. If you encounter this case (unknowingly) in an automated analysis, you want to get two clusters, on which you can perform subsequent computations individually. For clustering `faltwerk` implements _HDBSCAN_ and _Markow chain clustering_ (MCL)."
   ]
  },
  {
   "cell_type": "code",
   "execution_count": null,
   "id": "dfb4d064",
   "metadata": {
    "scrolled": true
   },
   "outputs": [],
   "source": [
    "FDR = 0.05\n",
    "\n",
    "# (1)\n",
    "hotspots = find_hotspots(\n",
    "    model,\n",
    "    selection,\n",
    "    method='getis_ord',\n",
    "    angstrom=8,\n",
    "    false_discovery_rate=FDR,\n",
    "    test_two_sided=False)\n",
    "\n",
    "# (2)\n",
    "clusters = cluster(model, hotspots, min_cluster_size=5)\n",
    "\n",
    "# Annotate model\n",
    "model.annotate_many_({\n",
    "    'selection': selection,\n",
    "    'hotspots': hotspots,\n",
    "    'clusters': clusters})\n"
   ]
  },
  {
   "cell_type": "markdown",
   "id": "613ed265",
   "metadata": {},
   "source": [
    "A note on visualisation. To build up a figure, we instantiate a `Layout`. We can then choose to only `select()` certain parts of the protein. Below, we only care about the carbon atoms of certain residues on chain A of the protein structure. We can then pass this selection to the \"style\" layers which start with `geom_` (`ggplot2` anyone?). You can layer on as many selections and styles as you want. By default they are placed in the first panel."
   ]
  },
  {
   "cell_type": "code",
   "execution_count": null,
   "id": "b1d45d62",
   "metadata": {
    "scrolled": true
   },
   "outputs": [],
   "source": [
    "# Visualise\n",
    "ly = Layout(model, panel_size=(200, 200), grid=(1, 3), linked=True)\n",
    "\n",
    "pos = ly.select(residues=barber2014, elements=['CA'], chain='A')\n",
    "\n",
    "ly.geom_ribbon(color='#ffffff')\n",
    "ly.geom_sphere(selection=pos, color='black')\n",
    "\n",
    "ly.geom_surface('hotspots', palette='binary', panel=(0, 1))\n",
    "ly.geom_surface('clusters', palette='Set2_r', panel=(0, 2))\n",
    "\n",
    "ly.render().show()\n"
   ]
  },
  {
   "cell_type": "markdown",
   "id": "3e35205b",
   "metadata": {},
   "source": [
    "We find two hotspots on the C-terminal \"lobe\" of the protein. While there are two positively selected positions on the N-terminal lobe, they don't seem to cluster. Are hotspots useful? Maybe. Imagine you only have a few species representatives to analyse. How likely do you find all sites that natural selection acts on? Hotspots \"color in\" regions that are spatially plausible, and it might or might not make sense to base further calculations on them rather than the original residues. However, `faltwerk` gives you the tools to quickly try both.\n",
    "\n",
    "Proteins often bind stuff. Transferrin for example is an iron (Fe2+) shuttle. Let's visualise which residues bind iron, maybe there is some spatial relation. Note that `faltwerk` here uses the method implemented by Kiefl _et al._ in `anvio` based on work by Kobren and Singh (2018) called \"InteracDome\":\n",
    "\n",
    "- https://merenlab.org/2020/07/22/interacdome/\n",
    "- https://www.biorxiv.org/content/10.1101/2022.03.02.482602v1\n",
    "- https://academic.oup.com/nar/article/47/2/582/5232439"
   ]
  },
  {
   "cell_type": "code",
   "execution_count": null,
   "id": "e9df95de",
   "metadata": {
    "scrolled": true
   },
   "outputs": [],
   "source": [
    "b = Binding(model, 'representable')\n",
    "b.predict_binding_(pfam)\n",
    "# b.domains\n",
    "# b.interactions\n",
    "binding = b.get_binding('PF00405.16', 'FE')\n",
    "fe = [i for i, j in enumerate(binding) if j > .5]\n",
    "\n",
    "ly = Layout(model)\n",
    "# select\n",
    "pos = ly.select(residues=barber2014, elements=['CA'], chain='A')\n",
    "fe_ = ly.select(residues=fe)  # carbon atoms of chain A are selected by default\n",
    "# style the layer cake\n",
    "ly.geom_ribbon(color='#ffffff')\n",
    "ly.geom_sphere(selection=pos, color='black')\n",
    "ly.geom_ribbon(selection=fe_, color='red')\n",
    "\n",
    "ly.render().show()"
   ]
  },
  {
   "cell_type": "markdown",
   "id": "f0447553",
   "metadata": {},
   "source": [
    "As expected, we find one Fe binding site per lobe. Note how residues distant on the linear sequence fold into spatial proximity to \"hold\" the iron molecule. Also, the sites under positive selection have no clear relationship to this center. But nevermind, let's just add the distance of each residue to the closest binding site residue as a regressor for later. `faltwerk` offers several functions that make this kind of \"geometry\" calculation as easy as:"
   ]
  },
  {
   "cell_type": "code",
   "execution_count": null,
   "id": "dce79f7a",
   "metadata": {},
   "outputs": [],
   "source": [
    "model.annotate_('distance_to_fe', distance_to_positions(model, fe))"
   ]
  },
  {
   "cell_type": "markdown",
   "id": "f7e24f31",
   "metadata": {},
   "source": [
    "We want to add more features that could explain the selection pattern, so let's keep collecting. Transferrin is known to bind several proteins. Barber _et al._ used such protein complex structures from crystallography experiments, but AF2 predicts complexes surprisingly well. We will add \"distance to binding interface\" as a feature for our statistical work later. In terms of science, this TbpA is the iron pirate referred to in the manuscript."
   ]
  },
  {
   "cell_type": "code",
   "execution_count": null,
   "id": "1f5e758f",
   "metadata": {},
   "outputs": [],
   "source": [
    "fp = 'data/3V8X/complex/test_cacad_unrelaxed_rank_1_model_3.pdb'\n",
    "cx = Complex(fp)\n",
    "\n",
    "interface = get_complex_interface(cx, 10)\n",
    "distance_to_interface = distance_to_positions(model, interface)\n",
    "model.annotate_('distance_to_interface', distance_to_interface)\n",
    "\n",
    "ly = Layout(cx)\n",
    "B = ly.select(chain='B')\n",
    "ly.geom_ribbon(selection=B).render().show()\n"
   ]
  },
  {
   "cell_type": "markdown",
   "id": "57f39bc0",
   "metadata": {},
   "source": [
    "We can also add that were calculated through other programs and prediction models, for example: \n",
    "\n",
    "- per-residue values from external programs such as [predicted binding sites](https://www.biorxiv.org/content/10.1101/2020.12.28.424589v1.full)\n",
    "- a multiple sequence alignment, where we are interested in how conserved residues are\n"
   ]
  },
  {
   "cell_type": "code",
   "execution_count": null,
   "id": "27f395cd",
   "metadata": {},
   "outputs": [],
   "source": [
    "fp = 'data/transferrin_binding.pdb'\n",
    "dmasif = [i for i in load_bfactor_column(fp)]\n",
    "\n",
    "fp = 'data/conservation/isoforms.linsi.faa'  # protein MSA in fasta format\n",
    "conserved = load_conserved(fp)\n",
    "\n",
    "model.annotate_many_({\n",
    "    'interface_prediction': dmasif,\n",
    "    'conserved': conserved\n",
    "})"
   ]
  },
  {
   "cell_type": "code",
   "execution_count": null,
   "id": "d97b6583",
   "metadata": {
    "scrolled": true
   },
   "outputs": [],
   "source": [
    "ly = Layout(model, grid=(1, 4), panel_size=(200, 200), linked=False)\n",
    "# unlink, to turn individually\n",
    "\n",
    "pos = ly.select(residues=barber2014, elements=['CA'], chain='A')\n",
    "fe_ = ly.select(residues=fe)  # carbon atoms of chain A are selected by default\n",
    "\n",
    "ly.geom_ribbon(color='#ffffff')\n",
    "ly.geom_sphere(selection=pos, color='black')\n",
    "\n",
    "# Pick color(map)s from matplotlib\n",
    "# https://matplotlib.org/stable/tutorials/colors/colormaps.html\n",
    "ly.geom_surface('hotspots', palette='binary', panel=(0, 1))\n",
    "ly.geom_surface('distance_to_interface', panel=(0, 2))\n",
    "ly.geom_surface('interface_prediction', panel=(0, 3))\n",
    "\n",
    "ly.render().show()"
   ]
  },
  {
   "cell_type": "markdown",
   "id": "e73e2e1c",
   "metadata": {},
   "source": [
    "We can see that residues close to the TbpA binding interface co-locate with our selection hotspots (Panel 3/4), while there is poor correspondence between the (more general) interface prediction based on multiple residue properties (Panel 4/4).\n",
    "\n",
    "Now we can start to check out some ideas obtained from eyeballing the data. The model annotation can be easily turned into a pandas dataframe and explored using a wide range of visualisation tools, such as here `altair`."
   ]
  },
  {
   "cell_type": "code",
   "execution_count": null,
   "id": "d2e4445a",
   "metadata": {},
   "outputs": [],
   "source": [
    "df = pd.DataFrame.from_dict(flatten(model.annotation, expected_track_length=len(model)))\n",
    "\n",
    "alt.Chart(df).mark_boxplot(extent=1.5).encode(\n",
    "    x='selection:O',\n",
    "    y='distance_to_interface:Q',\n",
    ")\n"
   ]
  },
  {
   "cell_type": "code",
   "execution_count": null,
   "id": "f1388d35",
   "metadata": {},
   "outputs": [],
   "source": [
    "df"
   ]
  },
  {
   "cell_type": "markdown",
   "id": "4e7f4437",
   "metadata": {},
   "source": [
    "Once hypotheses have been generated, we need to test them. The typical regression framework assumes independent datapoints, which we clearly violate due to the spatial dependency (to neighboring residues are more likely to share properties than would be expected by chance). Luckily, there is a spatial regression framework (`pysal`), which we can easily interface with.\n",
    "\n",
    "> Where utter patternlessness or randomness prevails, nothing is predictable. -- \"Real Patterns\", D. Dennett, 1991\n",
    "\n",
    "First we will test several variables against a binary dependent one, namely whether a residue is under positive selection or not. We could use the positions that have been identified by Barber _et al._, but here we will use the spatial hotspots identified above. Alternatively, we could just use single clusters in more granular analyses or if we suspect the hotspots to emerge due to multiple selective forces (cluster 1 from protein A, 2 from protein B etc.)."
   ]
  },
  {
   "cell_type": "code",
   "execution_count": null,
   "id": "613b2d5d",
   "metadata": {},
   "outputs": [],
   "source": [
    "points = list(get_alpha_carbon_atoms(model, only_coords=True))\n",
    "\n",
    "# Define what is a \"neighborhood\", either using k-nearest neighbors ...\n",
    "w = KNN.from_array(points, k=8)\n",
    "# ... or euclidean distance\n",
    "angstrom = 8\n",
    "w = DistanceBand(points, angstrom, p=2, binary=True)\n",
    "w.transform='r'\n",
    "\n",
    "y = np.array(df['hotspots'])\n",
    "columns = ['distance_to_interface', 'distance_to_fe', 'access']\n",
    "x = np.array(df[columns])\n",
    "\n",
    "m = Probit(y, x, w=w, name_y='selection', name_x=columns)\n",
    "np.around(m.betas, decimals=6)\n",
    "# constant, then independent variables in order of appearance"
   ]
  },
  {
   "cell_type": "code",
   "execution_count": null,
   "id": "87321aff",
   "metadata": {},
   "outputs": [],
   "source": [
    "print(m.summary)"
   ]
  },
  {
   "cell_type": "markdown",
   "id": "ef484db8",
   "metadata": {},
   "source": [
    "There is a pretty significant association between solvent access and the TbpA binding interface and our positively selected sites. As a sort of negative control, we observe positive selection close to the Fe-binding site.\n",
    "\n",
    "So let's try a regression where the dependent variable is continuous:"
   ]
  },
  {
   "cell_type": "code",
   "execution_count": null,
   "id": "ac391f02",
   "metadata": {},
   "outputs": [],
   "source": [
    "y = np.array(df['conserved'])\n",
    "x = np.array(df[columns])\n",
    "m = OLS(y, x, w=w, name_y='selection', name_x=columns)\n",
    "print(m.summary)"
   ]
  },
  {
   "cell_type": "markdown",
   "id": "5e0a2ed2",
   "metadata": {},
   "source": [
    "Very conserved residues are deeper in the protein (less access)."
   ]
  },
  {
   "cell_type": "code",
   "execution_count": null,
   "id": "9f7d3931",
   "metadata": {},
   "outputs": [],
   "source": []
  }
 ],
 "metadata": {
  "kernelspec": {
   "display_name": "Python 3 (ipykernel)",
   "language": "python",
   "name": "python3"
  },
  "language_info": {
   "codemirror_mode": {
    "name": "ipython",
    "version": 3
   },
   "file_extension": ".py",
   "mimetype": "text/x-python",
   "name": "python",
   "nbconvert_exporter": "python",
   "pygments_lexer": "ipython3",
   "version": "3.9.13"
  }
 },
 "nbformat": 4,
 "nbformat_minor": 5
}
