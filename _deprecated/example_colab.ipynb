{
  "nbformat": 4,
  "nbformat_minor": 0,
  "metadata": {
    "colab": {
      "name": "Untitled21.ipynb",
      "provenance": [],
      "collapsed_sections": []
    },
    "kernelspec": {
      "name": "python3",
      "display_name": "Python 3"
    },
    "language_info": {
      "name": "python"
    }
  },
  "cells": [
    {
      "cell_type": "code",
      "execution_count": null,
      "metadata": {
        "id": "BI75F5jcJYdn"
      },
      "outputs": [],
      "source": [
        "!pip install -q condacolab\n",
        "import condacolab\n",
        "condacolab.install()"
      ]
    },
    {
      "cell_type": "code",
      "source": [
        "!pip install -qqq hdbscan biopython screed tqdm py3dmol markov-clustering pdb-tools altair vega_datasets networkx numpy pandas matplotlib pytest libpysal spreg esda geopandas\n",
        "!pip install -qqq -i https://test.pypi.org/simple/ faltwerk==0.2b0\n",
        "\n",
        "!conda config --add channels defaults\n",
        "!conda config --add channels bioconda\n",
        "!conda config --add channels conda-forge\n",
        "\n",
        "!mamba install -q -y -c bioconda foldseek=3.915ef7d hmmer"
      ],
      "metadata": {
        "id": "QAnHMZ8CJY-k"
      },
      "execution_count": null,
      "outputs": []
    },
    {
      "cell_type": "code",
      "source": [
        "!pip install -i https://test.pypi.org/simple/ faltwerk==0.2rc0\n",
        "!git clone https://github.com/phiweger/faltwerk\n",
        "%cd faltwerk"
      ],
      "metadata": {
        "id": "e4thzHIdLeZ0"
      },
      "execution_count": null,
      "outputs": []
    },
    {
      "cell_type": "code",
      "source": [
        "from hdbscan import HDBSCAN\n",
        "\n",
        "from faltwerk.models import Fold\n",
        "from faltwerk.vis import Layout\n",
        "\n",
        "fp = 'data/alphafold2/transferrin/test_08df6_unrelaxed_rank_1_model_3.pdb'\n",
        "model = Fold(fp)\n",
        "Layout(model).geom_ribbon().render().show()"
      ],
      "metadata": {
        "id": "QhN7ByO_JlFK"
      },
      "execution_count": null,
      "outputs": []
    },
    {
      "cell_type": "code",
      "source": [
        "import json\n",
        "from pathlib import Path\n",
        "import warnings\n",
        "warnings.filterwarnings('ignore')\n",
        "warnings.simplefilter('ignore')\n",
        "\n",
        "import altair as alt\n",
        "import numpy as np\n",
        "import py3Dmol\n",
        "import pandas as pd\n",
        "\n",
        "from libpysal.weights import KNN, DistanceBand\n",
        "from spreg import OLS, Probit\n",
        "# https://github.com/pysal/spreg/blob/d464bbbc3c8601f1ca1989f4756967dca3a83179/spreg/probit.py#L704\n",
        "\n",
        "from faltwerk.biochem import solvent_access\n",
        "from faltwerk.geometry import is_close, get_complex_interface, distance_to_positions, get_alpha_carbon_atoms\n",
        "from faltwerk.io import load_conserved, load_bfactor_column, load_conserved\n",
        "from faltwerk.models import Fold, Complex, Binding, AlphaFold\n",
        "from faltwerk.stats import find_hotspots, cluster\n",
        "from faltwerk.vis import Layout, plot_alphafold\n",
        "from faltwerk.utils import flatten\n"
      ],
      "metadata": {
        "id": "UEusGhNNKiS4"
      },
      "execution_count": null,
      "outputs": []
    },
    {
      "cell_type": "code",
      "source": [
        "fp = 'data/alphafold2/transferrin/'\n",
        "af = AlphaFold(fp)"
      ],
      "metadata": {
        "id": "B28sPOh9KtoO"
      },
      "execution_count": null,
      "outputs": []
    },
    {
      "cell_type": "code",
      "source": [
        "plot_alphafold(af)\n"
      ],
      "metadata": {
        "id": "O8wGdWymNSxG"
      },
      "execution_count": null,
      "outputs": []
    },
    {
      "cell_type": "code",
      "source": [
        "model = af.best\n",
        "\n",
        "# What annotation tracks are present?\n",
        "model.annotation.keys()\n",
        "# dict_keys(['position', 'plddt'])\n",
        "\n",
        "Layout(model, panel_size=(400, 300)).geom_ribbon('plddt', palette='rainbow_r').render().show()\n",
        "# Blue is good\n",
        "# Pick any color or color palette from matplotlib:\n",
        "# https://matplotlib.org/stable/tutorials/colors/colormaps.html"
      ],
      "metadata": {
        "id": "8J0M0oudNvS0"
      },
      "execution_count": null,
      "outputs": []
    },
    {
      "cell_type": "code",
      "source": [
        "!wget http://ftp.ebi.ac.uk/pub/databases/Pfam/releases/Pfam31.0/Pfam-A.hmm.dat.gz\n",
        "!wget http://ftp.ebi.ac.uk/pub/databases/Pfam/releases/Pfam31.0/Pfam-A.hmm.gz\n",
        "!gunzip -q Pfam*\n",
        "!hmmpress Pfam-A.hmm"
      ],
      "metadata": {
        "colab": {
          "base_uri": "https://localhost:8080/"
        },
        "id": "ziel8vMhOKZ6",
        "outputId": "eacdbd91-bcc5-4114-c646-bd5fd183b157"
      },
      "execution_count": 18,
      "outputs": [
        {
          "output_type": "stream",
          "name": "stdout",
          "text": [
            "--2022-08-19 09:09:58--  http://ftp.ebi.ac.uk/pub/databases/Pfam/releases/Pfam31.0/Pfam-A.hmm.dat.gz\n",
            "Resolving ftp.ebi.ac.uk (ftp.ebi.ac.uk)... 193.62.193.138\n",
            "Connecting to ftp.ebi.ac.uk (ftp.ebi.ac.uk)|193.62.193.138|:80... connected.\n",
            "HTTP request sent, awaiting response... 200 OK\n",
            "Length: 444686 (434K) [application/x-gzip]\n",
            "Saving to: ‘Pfam-A.hmm.dat.gz’\n",
            "\n",
            "Pfam-A.hmm.dat.gz   100%[===================>] 434.26K  1.30MB/s    in 0.3s    \n",
            "\n",
            "2022-08-19 09:09:59 (1.30 MB/s) - ‘Pfam-A.hmm.dat.gz’ saved [444686/444686]\n",
            "\n",
            "--2022-08-19 09:09:59--  http://ftp.ebi.ac.uk/pub/databases/Pfam/releases/Pfam31.0/Pfam-A.hmm.gz\n",
            "Resolving ftp.ebi.ac.uk (ftp.ebi.ac.uk)... 193.62.193.138\n",
            "Connecting to ftp.ebi.ac.uk (ftp.ebi.ac.uk)|193.62.193.138|:80... connected.\n",
            "HTTP request sent, awaiting response... 200 OK\n",
            "Length: 257664436 (246M) [application/x-gzip]\n",
            "Saving to: ‘Pfam-A.hmm.gz’\n",
            "\n",
            "Pfam-A.hmm.gz       100%[===================>] 245.73M  33.1MB/s    in 10s     \n",
            "\n",
            "2022-08-19 09:10:10 (23.9 MB/s) - ‘Pfam-A.hmm.gz’ saved [257664436/257664436]\n",
            "\n",
            "gzip: data is a directory -- ignored\n",
            "gzip: _deprecated is a directory -- ignored\n",
            "gzip: example.html: unknown suffix -- ignored\n",
            "gzip: example.ipynb: unknown suffix -- ignored\n",
            "gzip: faltwerk is a directory -- ignored\n",
            "gzip: img is a directory -- ignored\n",
            "gzip: install is a directory -- ignored\n",
            "gzip: install.sh: unknown suffix -- ignored\n",
            "gzip: license.txt: unknown suffix -- ignored\n",
            "gzip: README.md: unknown suffix -- ignored\n",
            "gzip: server is a directory -- ignored\n",
            "gzip: setup.py: unknown suffix -- ignored\n",
            "gzip: tests is a directory -- ignored\n",
            "\n",
            "Error: File existence/permissions problem in trying to open HMM file Pfam-A.hmm.gz.\n",
            ".gz file Pfam-A.hmm.gz not found or not readable\n",
            "\n"
          ]
        }
      ]
    },
    {
      "cell_type": "code",
      "source": [
        "!gunzip -h"
      ],
      "metadata": {
        "colab": {
          "base_uri": "https://localhost:8080/"
        },
        "id": "iQBIdoaAYT3j",
        "outputId": "e1bee305-9136-43e4-d3f3-fba10dadecf4"
      },
      "execution_count": 24,
      "outputs": [
        {
          "output_type": "stream",
          "name": "stdout",
          "text": [
            "Usage: gzip [OPTION]... [FILE]...\n",
            "Compress or uncompress FILEs (by default, compress FILES in-place).\n",
            "\n",
            "Mandatory arguments to long options are mandatory for short options too.\n",
            "\n",
            "  -c, --stdout      write on standard output, keep original files unchanged\n",
            "  -d, --decompress  decompress\n",
            "  -f, --force       force overwrite of output file and compress links\n",
            "  -h, --help        give this help\n",
            "  -k, --keep        keep (don't delete) input files\n",
            "  -l, --list        list compressed file contents\n",
            "  -L, --license     display software license\n",
            "  -n, --no-name     do not save or restore the original name and time stamp\n",
            "  -N, --name        save or restore the original name and time stamp\n",
            "  -q, --quiet       suppress all warnings\n",
            "  -r, --recursive   operate recursively on directories\n",
            "  -S, --suffix=SUF  use suffix SUF on compressed files\n",
            "  -t, --test        test compressed file integrity\n",
            "  -v, --verbose     verbose mode\n",
            "  -V, --version     display version number\n",
            "  -1, --fast        compress faster\n",
            "  -9, --best        compress better\n",
            "  --rsyncable       Make rsync-friendly archive\n",
            "\n",
            "With no FILE, or when FILE is -, read standard input.\n",
            "\n",
            "Report bugs to <bug-gzip@gnu.org>.\n"
          ]
        }
      ]
    },
    {
      "cell_type": "code",
      "source": [
        "!hmmpress Pfam-A.hmm"
      ],
      "metadata": {
        "colab": {
          "base_uri": "https://localhost:8080/"
        },
        "id": "YypYa7IDXcgF",
        "outputId": "a2147b63-80cc-4731-bef2-f7128fdf7c40"
      },
      "execution_count": 20,
      "outputs": [
        {
          "output_type": "stream",
          "name": "stdout",
          "text": [
            "Working...    done.\n",
            "Pressed and indexed 16712 HMMs (16712 names and 16712 accessions).\n",
            "Models pressed into binary file:   Pfam-A.hmm.h3m\n",
            "SSI index for binary model file:   Pfam-A.hmm.h3i\n",
            "Profiles (MSV part) pressed into:  Pfam-A.hmm.h3f\n",
            "Profiles (remainder) pressed into: Pfam-A.hmm.h3p\n"
          ]
        }
      ]
    },
    {
      "cell_type": "code",
      "source": [
        ""
      ],
      "metadata": {
        "id": "vIIhy-8eXlq6"
      },
      "execution_count": null,
      "outputs": []
    }
  ]
}